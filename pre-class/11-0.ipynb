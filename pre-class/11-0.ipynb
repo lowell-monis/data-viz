{
 "cells": [
  {
   "cell_type": "markdown",
   "id": "e4d8d6a5-10b4-4648-b2bc-22bea5f3f3ce",
   "metadata": {},
   "source": [
    "# CMSE 402: Data Visualization Principles and Techniques\n",
    "## Lowell Monis\n",
    "## Spring 2025 - Dr. Devin Silvia\n",
    "\n",
    "***\n",
    "### Pre-Class Assignment (Day 11 - February 20, 2025)\n",
    "***\n",
    "### Part 1: Command-line FFmpeg\n",
    "\n",
    "#### Code to generate frames\n",
    "\n",
    "**I have made this a raw cell since I do not want someone to accidentally run this and create 100 frames. If you would like to run them, convert the below cell into a code cell.**"
   ]
  },
  {
   "cell_type": "raw",
   "id": "733e9b8d-7cf3-4955-bb36-840160f999c7",
   "metadata": {
    "jp-MarkdownHeadingCollapsed": true
   },
   "source": [
    "import numpy as np\n",
    "import matplotlib.pyplot as plt\n",
    "import os\n",
    "\n",
    "# i'm lazy so i'm writing code to create a directory for frames here if it does not exist.\n",
    "os.makedirs('part-1-temp', exist_ok=True)\n",
    "\n",
    "# creating x and y points.\n",
    "x = np.linspace(0, 2*np.pi, 1000)\n",
    "y = np.sin(x)\n",
    "\n",
    "# i have used 1000 steps here to kind of smoothen the animation out.\n",
    "# setting 100 frames and dividing number of points among them.\n",
    "n = 100\n",
    "points_frame = len(x)//n*np.arange(1, n+1)\n",
    "\n",
    "# creating the frames.\n",
    "for f in range(n):\n",
    "    plt.figure(figsize=(10, 6))\n",
    "    \n",
    "    # plotting the completed sine wave in light colors.\n",
    "    plt.plot(x, y, color='black', linestyle='--', alpha=0.3)\n",
    "    \n",
    "    # *the reveal*.\n",
    "    current = points_frame[f]\n",
    "    x_viz = x[:current]\n",
    "    y_viz = y[:current]\n",
    "    plt.plot(x_viz, y_viz, color='red', linewidth=2)\n",
    "    \n",
    "    # the plot settings.\n",
    "    plt.xlim(0, 2*np.pi)\n",
    "    plt.ylim(-1.5, 1.5)\n",
    "    plt.xlabel('x')\n",
    "    plt.ylabel('sin(x)')\n",
    "    plt.title('The smooth progress of the sine function')\n",
    "\n",
    "    # i love aesthetics and i do not like my frame counter moving with the fluctuation with the frame number so i'm gonna waste time on this.\n",
    "    plt.annotate(f'Frame {f:03d} of {n}', xy=(2, 1), xytext=(3*np.pi/2, 1.25), bbox=dict(boxstyle='round,pad=0.5', edgecolor='black', facecolor='lightblue'))\n",
    "    # using matplotlib docs example for the annotation so a lot of settings are preserved, except the arrow\n",
    "    # i used ai for the box\n",
    "    \n",
    "    # tick marks for intervals of pi.\n",
    "    plt.xticks([0, np.pi/2, np.pi, 3*np.pi/2, 2*np.pi], ['0', 'π/2', 'π', '3π/2', '2π'])\n",
    "    \n",
    "    # saving the frame with padded numbering.\n",
    "    plt.savefig(f'part-1-temp/image_{f:03d}.png', dpi=150, bbox_inches='tight')\n",
    "    plt.close()"
   ]
  },
  {
   "cell_type": "markdown",
   "id": "67c05db1-7c88-4d1b-9f2b-1f6051707940",
   "metadata": {},
   "source": [
    "I will not be handing in the 60 frames per second output, since it is too fast.\n",
    "\n",
    "```bash\n",
    "ffmpeg -framerate 24 -i part-1-temp/image_%03d.png part1.mpg\n",
    "```\n",
    "\n",
    "The following cell deletes the frames. Once again, this is a raw cell to avoid accidental deletion. Also, I just feel uncomfortable leaving any cell with the ability to delete something active."
   ]
  },
  {
   "cell_type": "raw",
   "id": "967f98fa-72cc-49e3-ac2c-be8d0f845dd4",
   "metadata": {},
   "source": [
    "import shutil\n",
    "shutil.rmtree('part-1-temp')"
   ]
  },
  {
   "cell_type": "markdown",
   "id": "bc009050-5bc0-4dbf-ab32-d919483d649a",
   "metadata": {},
   "source": [
    "### Part 2: File conversion and movie-making with ImageMagick\n",
    "\n",
    "I just read the part where y'all called `os` outdated and now I feel ancient.\n",
    "\n",
    "I will now complete the conversion. This becomes a raw cell again."
   ]
  },
  {
   "cell_type": "raw",
   "id": "b1758c74-336a-4a45-a2fe-91c57d108e81",
   "metadata": {},
   "source": [
    "import subprocess\n",
    "import os\n",
    "\n",
    "os.makedirs(\"part-1-temp-jpeg\", exist_ok=True) # still using os here since this is easier to figure with the exist_ok\n",
    "\n",
    "for f in range(100):\n",
    "    i = f\"part-1-temp/image_{f:03d}.png\"\n",
    "    o = f\"part-1-temp-jpeg/image_{f:03d}.jpg\"\n",
    "    subprocess.run([\"convert\", i, \"-quality\", \"30\", o])"
   ]
  },
  {
   "cell_type": "markdown",
   "id": "1744319f-20d5-47ec-9a8a-7bc5f6727ec4",
   "metadata": {},
   "source": [
    "The following is a code cell to delete the frames, again."
   ]
  },
  {
   "cell_type": "raw",
   "id": "000a46e9-cc6e-4a1b-b5a3-790d90f235e7",
   "metadata": {},
   "source": [
    "import shutil\n",
    "shutil.rmtree('part-1-temp-jpeg')"
   ]
  },
  {
   "cell_type": "markdown",
   "id": "78486b7f-4f90-4a9d-ba87-c24b560006ae",
   "metadata": {},
   "source": [
    "I created a GIF because it is a pain to keep downloading the MPG/MP4s and GIFs can be viewed nicely on JupyterHub. I experimented with `quality` and `delay`.\n",
    "\n",
    "``` bash\n",
    "convert -delay 4 -quality 50 part-1-temp-jpeg/image_*.jpg part2.gif\n",
    "```\n",
    "\n",
    "We can do the same with MPG using:\n",
    "\n",
    "```bash\n",
    "convert part-1-temp-jpeg/image_*.jpg part2.mpg\n",
    "```\n",
    "\n",
    "Observation: Your command will run for a long time if you do not set a quality while converting your frames to a GIF. This does not necessarily apply to MPG, but my MPG freezes on the 56th frame for some reason. If you do not set a delay, it looks like assigns a default value that makes your animation slower, but it does not look bad. As the website says, if `-delay`>4, it smooths out your animation by adding frames.\n",
    "\n",
    "The GIF you see right now does not use a `-quality` or `-delay`, and these are set to defaults.\n",
    "The MPG, however, freezes at 56, which is the most annoying thing ever. I have tried a lot of things to fix this. Did not work. There was a lot of tinkering with `-delay` and `-quality`.\n",
    "\n",
    "The quality option does mess around with file quality, and delay essentially is a way to set the frame rate. By definition, the delay option is quantified by the hundredths of a second. So `-delay 5` is essentially $\\frac{100}{5}=20$ frames per second. The smaller the delay, the faster the output, and vice-versa. The quality of the ImageMagic result is poorer when compared to FFmpeg.\n",
    "\n",
    "Update: I think I might be in this 56th frame situation because I used JupyterHub which uses `convert` instead of `magick convert`.\n",
    "\n",
    "### Part 3: Animations in `matplotlib`\n",
    "\n",
    "First, using `.save()`. We are not converting this into raw cells since this does not mess with my directory."
   ]
  },
  {
   "cell_type": "code",
   "execution_count": 34,
   "id": "f783ab13-3547-4ccd-8bd0-ca81597b3303",
   "metadata": {},
   "outputs": [
    {
     "data": {
      "image/png": "[encoded data removed]",
      "text/plain": [
       "<Figure size 640x480 with 1 Axes>"
      ]
     },
     "metadata": {},
     "output_type": "display_data"
    }
   ],
   "source": [
    "import matplotlib.pyplot as plt\n",
    "import numpy as np\n",
    "import matplotlib.animation as animation\n",
    "\n",
    "fig, ax = plt.subplots()\n",
    "x = np.linspace(0, 2*np.pi, 100)\n",
    "y = np.sin(x)\n",
    "\n",
    "line, = ax.plot([], [], lw=2)\n",
    "ax.set_xlim(0, 2*np.pi)\n",
    "ax.set_ylim(-1.5, 1.5)\n",
    "\n",
    "def init():\n",
    "    line.set_data([], [])\n",
    "    return line,\n",
    "\n",
    "def animate(i):\n",
    "    x_data = x[:i]\n",
    "    y_data = np.sin(x_data)\n",
    "    line.set_data(x_data, y_data)\n",
    "    return line,\n",
    "\n",
    "ani = animation.FuncAnimation(fig, animate, frames=len(x), init_func=init, interval=50, blit=True)\n",
    "ani.save(\"part3_save.mp4\")"
   ]
  },
  {
   "cell_type": "markdown",
   "id": "9f73ad66-36f5-4959-ae0f-d0a3ce4ca1e1",
   "metadata": {},
   "source": [
    "Next, we use `FFMpegWriter`."
   ]
  },
  {
   "cell_type": "code",
   "execution_count": 33,
   "id": "99bf8e6f-019c-4158-8f0a-9ee5ab026c00",
   "metadata": {},
   "outputs": [],
   "source": [
    "writer = animation.FFMpegWriter(fps=24, bitrate=1800)\n",
    "ani.save(\"part3_ffmpeg.mp4\", writer=writer)"
   ]
  },
  {
   "cell_type": "markdown",
   "id": "6e81719a-ac5d-48bf-97b0-65e0d959d19a",
   "metadata": {},
   "source": [
    "I am sleep-deprived, so I did not invest time in making the plot look good. I apologize. Thank you for the most fun I've had in a while (I know this sounds sad)."
   ]
  }
 ],
 "metadata": {
  "kernelspec": {
   "display_name": "Python 3.11 (default)",
   "language": "python",
   "name": "python3"
  },
  "language_info": {
   "codemirror_mode": {
    "name": "ipython",
    "version": 3
   },
   "file_extension": ".py",
   "mimetype": "text/x-python",
   "name": "python",
   "nbconvert_exporter": "python",
   "pygments_lexer": "ipython3",
   "version": "3.11.11"
  }
 },
 "nbformat": 4,
 "nbformat_minor": 5
}
